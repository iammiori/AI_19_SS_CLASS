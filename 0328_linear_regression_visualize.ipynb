{
  "nbformat": 4,
  "nbformat_minor": 0,
  "metadata": {
    "colab": {
      "name": "linear_regression_visualize",
      "version": "0.3.2",
      "provenance": [],
      "collapsed_sections": [],
      "include_colab_link": true
    },
    "kernelspec": {
      "name": "python3",
      "display_name": "Python 3"
    }
  },
  "cells": [
    {
      "cell_type": "markdown",
      "metadata": {
        "id": "view-in-github",
        "colab_type": "text"
      },
      "source": [
        "<a href=\"https://colab.research.google.com/github/iammiori/AI_19_SS_CLASS/blob/master/0328_linear_regression_visualize.ipynb\" target=\"_parent\"><img src=\"https://colab.research.google.com/assets/colab-badge.svg\" alt=\"Open In Colab\"/></a>"
      ]
    },
    {
      "metadata": {
        "id": "UGpcC35UNONF",
        "colab_type": "code",
        "outputId": "fa8dd39c-3150-4ef6-c315-2451880f41c8",
        "colab": {
          "base_uri": "https://localhost:8080/",
          "height": 35
        }
      },
      "cell_type": "code",
      "source": [
        "# google mount\n",
        "from google.colab import drive\n",
        "import os \n",
        "if os.path.exists('/content/gdrive')==False:\n",
        "  drvie.mount('/content/gdrive')\n",
        "  print(\"GoogleDrive is mounted\\n\")\n",
        "else:\n",
        "  print(\"Already mounted\")\n"
      ],
      "execution_count": 0,
      "outputs": [
        {
          "output_type": "stream",
          "text": [
            "Already mounted\n"
          ],
          "name": "stdout"
        }
      ]
    },
    {
      "metadata": {
        "id": "9AWixayKNdOk",
        "colab_type": "code",
        "outputId": "77e12a30-49ca-4865-aa87-f66b103d1eb7",
        "colab": {
          "base_uri": "https://localhost:8080/",
          "height": 368
        }
      },
      "cell_type": "code",
      "source": [
        "import tensorflow as tf\n",
        "import matplotlib.pyplot as plt\n",
        "# 그래프 그리기위해 import\n",
        "\n",
        "X = [1,2,3]\n",
        "Y = [1,2,3]\n",
        "\n",
        "# placeholer\n",
        "W = tf.placeholder(tf.float32)\n",
        "\n",
        "# hypothesis\n",
        "hypothesis = X * W\n",
        "\n",
        "# cost\n",
        "cost = tf.reduce_mean(tf.square(hypothesis - Y))\n",
        "\n",
        "# plotting cost function\n",
        "W_history = []\n",
        "cost_history = []\n",
        "\n",
        "# session\n",
        "sess = tf.Session()\n",
        "\n",
        "# 그림 그리기 위한 cost 값 저장\n",
        "for i in range(-30,50):\n",
        "  curr_W = i * 0.1\n",
        "  curr_cost = sess.run(cost,feed_dict={W : curr_W})\n",
        "  \n",
        "  W_history.append(curr_W)\n",
        "  cost_history.append(curr_cost)\n",
        "\n",
        "  \n",
        "#plt.title('visualize')\n",
        "#plt.ylabel('cost')\n",
        "#plt.xlabel('W')\n",
        "#plt.plot(W_history, cost_history)\n",
        "#plt.show()\n",
        "\n",
        "fig1 , ax1 = plt.subplots(1,1,figsize=[10,5])\n",
        "ax1.set_title('linear_regression_visualize')\n",
        "ax1.set_xlabel('w')\n",
        "ax1.set_ylabel('cost')\n",
        "plt.plot(W_history,cost_history)"
      ],
      "execution_count": 10,
      "outputs": [
        {
          "output_type": "execute_result",
          "data": {
            "text/plain": [
              "[<matplotlib.lines.Line2D at 0x7efbfcdf0f28>]"
            ]
          },
          "metadata": {
            "tags": []
          },
          "execution_count": 10
        },
        {
          "output_type": "display_data",
          "data": {
            "image/png": "[encoded data removed]",
            "text/plain": [
              "<Figure size 720x360 with 1 Axes>"
            ]
          },
          "metadata": {
            "tags": []
          }
        }
      ]
    }
  ]
}