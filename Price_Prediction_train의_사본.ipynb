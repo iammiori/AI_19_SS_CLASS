{
  "nbformat": 4,
  "nbformat_minor": 0,
  "metadata": {
    "colab": {
      "name": "Price_Prediction_train의 사본",
      "version": "0.3.2",
      "provenance": [],
      "collapsed_sections": [],
      "include_colab_link": true
    },
    "kernelspec": {
      "name": "python3",
      "display_name": "Python 3"
    },
    "accelerator": "GPU"
  },
  "cells": [
    {
      "cell_type": "markdown",
      "metadata": {
        "id": "view-in-github",
        "colab_type": "text"
      },
      "source": [
        "<a href=\"https://colab.research.google.com/github/iammiori/AI_19_SS_CLASS/blob/master/Price_Prediction_train%EC%9D%98_%EC%82%AC%EB%B3%B8.ipynb\" target=\"_parent\"><img src=\"https://colab.research.google.com/assets/colab-badge.svg\" alt=\"Open In Colab\"/></a>"
      ]
    },
    {
      "metadata": {
        "id": "olDEOIqx6UmK",
        "colab_type": "text"
      },
      "cell_type": "markdown",
      "source": [
        "\n",
        "##  세종대학교 인공지능 수업 선형 회의 과제 입니다.\n",
        "\n",
        "## 선형회귀 - 학습용 코드\n",
        "\n",
        "### 과제의 목표\n",
        "- 배추 생산량은 온도와 강우량에 영향을 받고, 그 생산량에 의해 배추 가격이 형성됩니다.\n",
        "\n",
        "- 내일의 온도와 강우량으로 배추가격을 추측해봅시다.\n",
        "\n",
        "\n",
        "### 선형 회귀 학습에 사용할 데이터 보기\n",
        "- [배추 가격 데이터 보기](https://drive.google.com/file/d/1-6SShVMc3WwXFcrV7TGtV9ekZPB9Pf3Z/view?usp=sharing)\n",
        "\n",
        "\n",
        "### 주의\n",
        "\n",
        "- 개인 구글 드라이브 저장소 사용을 위한 설정"
      ]
    },
    {
      "metadata": {
        "id": "QdzP5A634t4i",
        "colab_type": "text"
      },
      "cell_type": "markdown",
      "source": [
        "## [1] 개인 구글 드라이브의 저장소를 Colab 에서 사용하기 위한 설정\n",
        "\n",
        "### 관련 코드\n",
        "```\n",
        "from google.colab import drive\n",
        "drive.mount('/content/gdrive')\n",
        "\n",
        "```\n",
        "\n",
        "###  본 설정이 필요한 이유?\n",
        "- Colab의 세션 유지 시간은 약 6시간이다.\n",
        "- 세션이 새롭게 갱신될때마다 할당되는 컴퓨터가 달라짐\n",
        "  - PC방 바탕화면에 파일 다운로드 후 재부팅하면 컴퓨터에 파일이 하나도 남아 있지 않는 상황과 도일\n",
        "- 따라서 본인의 구글 드라이브를 마운트 해서 파일 저장, 불러오기가 이루어져야 함\n",
        "\n"
      ]
    },
    {
      "metadata": {
        "id": "H5TMN-Kk-22z",
        "colab_type": "code",
        "outputId": "baf366f7-62f7-4dce-cb60-75a043e3bc57",
        "colab": {
          "base_uri": "https://localhost:8080/",
          "height": 52
        }
      },
      "cell_type": "code",
      "source": [
        "from google.colab import drive\n",
        "import os\n",
        "\n",
        "if os.path.exists('/content/gdrive')==False:\n",
        "  drive.mount('/content/gdrive')\n",
        "  print('Google Drive is mounted\\n')\n",
        "else:\n",
        "  print('Google Drive is already mounted\\n')"
      ],
      "execution_count": 1,
      "outputs": [
        {
          "output_type": "stream",
          "text": [
            "Google Drive is already mounted\n",
            "\n"
          ],
          "name": "stdout"
        }
      ]
    },
    {
      "metadata": {
        "id": "5rv9ppUODIcw",
        "colab_type": "text"
      },
      "cell_type": "markdown",
      "source": [
        "## [2] 학습데이터 다운로드 & 학습\n",
        "\n",
        "### 다운로드 관련 \n",
        "- 리눅스의 curl 이라는 명령어를 활용하여 다운로드\n",
        "\n",
        "### 학습 관련\n",
        "- 학습하기 위한 W, b  값을 찾기 위해, 최적화 반복횟수는 얼마든지 조절 가능\n"
      ]
    },
    {
      "metadata": {
        "id": "IpWponScyE80",
        "colab_type": "code",
        "colab": {
          "base_uri": "https://localhost:8080/",
          "height": 675
        },
        "outputId": "e032b3c0-a37e-4195-f8fd-4072fd212239"
      },
      "cell_type": "code",
      "source": [
        "import os\n",
        "import tensorflow as tf\n",
        "import numpy as np\n",
        "from pandas.io.parsers import read_csv\n",
        "\n",
        "model = tf.global_variables_initializer()\n",
        "\n",
        "if os.path.exists('/content/gdrive/My Drive/Colab Notebooks/price_data_yk.csv')==False:\n",
        "  print('Train data downloading..')\n",
        "  ! curl 'https://raw.githubusercontent.com/unizard/2019.Spring.AI/master/price_data_yk.csv' -o '/content/gdrive/My Drive/Colab Notebooks/price_data_yk.csv'\n",
        "  print('Done..\\n')\n",
        "else:\n",
        "  print('File already exists \\n')\n",
        "    \n",
        "# 학습데이터 로딩\n",
        "data = read_csv('/content/gdrive/My Drive/Colab Notebooks/price_data_yk.csv',sep=',')\n",
        "xy = np.array(data,dtype=np.float32)\n",
        "\n",
        "\n",
        "# 4개의 변인을 입력을 받습니다.\n",
        "x_data = xy[:, 1:-1]\n",
        "\n",
        "# 가격 값을 입력 받습니다.\n",
        "y_data = xy[:, [-1]]\n",
        "\n",
        "# 플레이스 홀더를 설정합니다.\n",
        "X = tf.placeholder(tf.float32, shape=[None, 4])\n",
        "Y = tf.placeholder(tf.float32, shape=[None, 1])\n",
        "\n",
        "W = tf.Variable(tf.random_normal([4, 1]), name=\"weight\")\n",
        "b = tf.Variable(tf.random_normal([1]), name=\"bias\")\n",
        "\n",
        "# 가설을 설정합니다.\n",
        "# \n",
        "hypothesis = tf.matmul(X,W) + b\n",
        "\n",
        "# 비용 함수를 설정합니다.\n",
        "cost = tf.reduce_mean(tf.square(hypothesis-Y))\n",
        "\n",
        "# 최적화 함수를 설정합니다.\n",
        "optimizer = tf.train.GradientDescentOptimizer(learning_rate=0.000005)\n",
        "train = optimizer.minimize(cost)\n",
        "\n",
        "# 세션을 생성합니다.\n",
        "sess = tf.Session()\n",
        "\n",
        "# 글로벌 변수를 초기화합니다.\n",
        "sess.run(tf.global_variables_initializer())\n",
        "\n",
        "# 학습을 수행합니다.\n",
        "print('=========================================')\n",
        "print(' 학습 시작')\n",
        "print('=========================================')\n",
        "\n",
        "for step in range(100001):\n",
        "    cost_, hypo_, _ = sess.run([cost, hypothesis, train], feed_dict={X: x_data, Y: y_data})\n",
        "    if step % 10000 == 0:\n",
        "        print(\"#\", step, \" 손실 비용: \", cost_)\n",
        "        print(\"- 배추 가격: \", hypo_[0])\n",
        "\n",
        "\n",
        "print('=========================================')\n",
        "print(' 학습 끝')\n",
        "print('=========================================')\n"
      ],
      "execution_count": 2,
      "outputs": [
        {
          "output_type": "stream",
          "text": [
            "Train data downloading..\n",
            "  % Total    % Received % Xferd  Average Speed   Time    Time     Time  Current\n",
            "                                 Dload  Upload   Total   Spent    Left  Speed\n",
            "100 93044  100 93044    0     0   605k      0 --:--:-- --:--:-- --:--:--  605k\n",
            "Done..\n",
            "\n",
            "WARNING:tensorflow:From /usr/local/lib/python3.6/dist-packages/tensorflow/python/framework/op_def_library.py:263: colocate_with (from tensorflow.python.framework.ops) is deprecated and will be removed in a future version.\n",
            "Instructions for updating:\n",
            "Colocations handled automatically by placer.\n",
            "=========================================\n",
            " 학습 시작\n",
            "=========================================\n",
            "# 0  손실 비용:  12449840.0\n",
            "- 배추 가격:  [-8.032068]\n",
            "# 10000  손실 비용:  2299236.0\n",
            "- 배추 가격:  [2269.696]\n",
            "# 20000  손실 비용:  2271532.2\n",
            "- 배추 가격:  [2549.7683]\n",
            "# 30000  손실 비용:  2265704.0\n",
            "- 배추 가격:  [2577.2095]\n",
            "# 40000  손실 비용:  2260158.8\n",
            "- 배추 가격:  [2580.346]\n",
            "# 50000  손실 비용:  2254698.2\n",
            "- 배추 가격:  [2581.0552]\n",
            "# 60000  손실 비용:  2249320.5\n",
            "- 배추 가격:  [2582.003]\n",
            "# 70000  손실 비용:  2244017.8\n",
            "- 배추 가격:  [2582.8362]\n",
            "# 80000  손실 비용:  2238793.8\n",
            "- 배추 가격:  [2583.298]\n",
            "# 90000  손실 비용:  2233627.2\n",
            "- 배추 가격:  [2583.6182]\n",
            "# 100000  손실 비용:  2228554.2\n",
            "- 배추 가격:  [2584.3035]\n",
            "=========================================\n",
            " 학습 끝\n",
            "=========================================\n"
          ],
          "name": "stdout"
        }
      ]
    },
    {
      "metadata": {
        "id": "GH6dN4MrDhWO",
        "colab_type": "text"
      },
      "cell_type": "markdown",
      "source": [
        "## [3] 학습 모델 저장\n",
        "\n",
        "\n",
        "### 구글 드라이브에 모델 저장\n",
        "- 마운트한 경로 잘 설정하여 저장"
      ]
    },
    {
      "metadata": {
        "id": "uQIn-KdkyaFo",
        "colab_type": "code",
        "outputId": "835e4649-1a9a-4e2d-8c87-6bfbd7521b14",
        "colab": {
          "base_uri": "https://localhost:8080/",
          "height": 35
        }
      },
      "cell_type": "code",
      "source": [
        "# 오늘의 날짜를 파일 이름으로 활용할 예정이었으나, 여러분의 혼란을 줄이고자 주석처리함\n",
        "# 오늘의 날짜를 사용하기 위한 라이브러리 import\n",
        "import datetime\n",
        "\n",
        "\n",
        "# 학습 모델 저장을 위한 그래프 설정\n",
        "saver = tf.train.Saver()\n",
        "\n",
        "# 학습 모델 이름 설정\n",
        "#strTLog = datetime.date.today().strftime(\"%Y%m%d\")  \n",
        "path = '/content/gdrive/My Drive/Colab Notebooks/saved.cpkt'\n",
        "\n",
        "# 학습 모델 저장\n",
        "save_path = saver.save(sess,path)\n",
        "print('학습된 모델을 저장했습니다.')\n"
      ],
      "execution_count": 3,
      "outputs": [
        {
          "output_type": "stream",
          "text": [
            "학습된 모델을 저장했습니다.\n"
          ],
          "name": "stdout"
        }
      ]
    },
    {
      "metadata": {
        "id": "cUQochQL2UmN",
        "colab_type": "code",
        "colab": {}
      },
      "cell_type": "code",
      "source": [
        ""
      ],
      "execution_count": 0,
      "outputs": []
    }
  ]
}