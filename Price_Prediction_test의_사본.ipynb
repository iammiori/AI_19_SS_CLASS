{
  "nbformat": 4,
  "nbformat_minor": 0,
  "metadata": {
    "colab": {
      "name": "Price_Prediction_test의 사본",
      "version": "0.3.2",
      "provenance": [],
      "collapsed_sections": [],
      "include_colab_link": true
    },
    "kernelspec": {
      "name": "python3",
      "display_name": "Python 3"
    },
    "accelerator": "GPU"
  },
  "cells": [
    {
      "cell_type": "markdown",
      "metadata": {
        "id": "view-in-github",
        "colab_type": "text"
      },
      "source": [
        "<a href=\"https://colab.research.google.com/github/iammiori/AI_19_SS_CLASS/blob/master/Price_Prediction_test%EC%9D%98_%EC%82%AC%EB%B3%B8.ipynb\" target=\"_parent\"><img src=\"https://colab.research.google.com/assets/colab-badge.svg\" alt=\"Open In Colab\"/></a>"
      ]
    },
    {
      "metadata": {
        "id": "w09fBFEKEKTI",
        "colab_type": "text"
      },
      "cell_type": "markdown",
      "source": [
        "##  세종대학교 인공지능 수업 선형 회의 과제 입니다.\n",
        "\n",
        "## 선형회귀 예측용 코드\n",
        "\n",
        "- 이제 학습된 모델을 이용하여 배추 값을 예측해보자."
      ]
    },
    {
      "metadata": {
        "id": "yW5S4_eTyKMP",
        "colab_type": "text"
      },
      "cell_type": "markdown",
      "source": [
        "## [1] 개인 구글 드라이브의 저장소를 Colab 에서 사용하기 위한 설정\n",
        "\n",
        "### 관련 코드\n",
        "```\n",
        "from google.colab import drive\n",
        "drive.mount('/content/gdrive')\n",
        "\n",
        "```\n",
        "\n",
        "###  본 설정이 필요한 이유?\n",
        "- Colab의 세션 유지 시간은 약 6시간이다.\n",
        "- 세션이 새롭게 갱신될때마다 할당되는 컴퓨터가 달라짐\n",
        "  - PC방 바탕화면에 파일 다운로드 후 재부팅하면 컴퓨터에 파일이 하나도 남아 있지 않는 상황과 도일\n",
        "- 따라서 본인의 구글 드라이브를 마운트 해서 파일 저장, 불러오기가 이루어져야 함"
      ]
    },
    {
      "metadata": {
        "id": "7g8shZzA3cQb",
        "colab_type": "code",
        "outputId": "1dd589b9-9403-4c69-c13a-d6d8e221bf25",
        "colab": {
          "base_uri": "https://localhost:8080/",
          "height": 52
        }
      },
      "cell_type": "code",
      "source": [
        "from google.colab import drive\n",
        "\n",
        "import os\n",
        "\n",
        "if os.path.exists('/content/gdrive')==False:\n",
        "  drive.mount('/content/gdrive')\n",
        "  print('Google Drive is mounted\\n')\n",
        "else:\n",
        "  print('Google Drive is already mounted\\n')\n"
      ],
      "execution_count": 1,
      "outputs": [
        {
          "output_type": "stream",
          "text": [
            "Google Drive is already mounted\n",
            "\n"
          ],
          "name": "stdout"
        }
      ]
    },
    {
      "metadata": {
        "id": "Ikt4my7NERt0",
        "colab_type": "text"
      },
      "cell_type": "markdown",
      "source": [
        "## [2] 배추값을 경정하는 정보를 측정한다. \n",
        "- 측정 == 입력\n",
        "- 측정한 오늘의 평균온도, 최고온도, 최저온도, 강우량을 입력받는다."
      ]
    },
    {
      "metadata": {
        "id": "opC5ST2AyBBT",
        "colab_type": "code",
        "outputId": "5d5a7955-a54b-4d7b-aff8-a0ae0f6b991a",
        "colab": {
          "base_uri": "https://localhost:8080/",
          "height": 161
        }
      },
      "cell_type": "code",
      "source": [
        "import tensorflow as tf\n",
        "import numpy as np\n",
        "\n",
        "# 플레이스 홀더를 설정합니다.\n",
        "X = tf.placeholder(tf.float32, shape=[None, 4])\n",
        "Y = tf.placeholder(tf.float32, shape=[None, 1])\n",
        "\n",
        "W = tf.Variable(tf.random_normal([4, 1]), name=\"weight\")\n",
        "b = tf.Variable(tf.random_normal([1]), name=\"bias\")\n",
        "\n",
        "# 가설을 설정합니다.\n",
        "hypothesis = tf.matmul(X,W)+b\n",
        "\n",
        "# 4가지 변수를 입력 받습니다.\n",
        "avg_temp = float(input('평균 온도: '))\n",
        "min_temp = float(input('최저 온도: '))\n",
        "max_temp = float(input('최고 온도: '))\n",
        "rain_fall = float(input('강수량: '))\n"
      ],
      "execution_count": 2,
      "outputs": [
        {
          "output_type": "stream",
          "text": [
            "WARNING:tensorflow:From /usr/local/lib/python3.6/dist-packages/tensorflow/python/framework/op_def_library.py:263: colocate_with (from tensorflow.python.framework.ops) is deprecated and will be removed in a future version.\n",
            "Instructions for updating:\n",
            "Colocations handled automatically by placer.\n",
            "평균 온도: -2.7\n",
            "최저 온도: -6.6\n",
            "최고 온도: 2.0\n",
            "강수량: 0.1\n"
          ],
          "name": "stdout"
        }
      ]
    },
    {
      "metadata": {
        "id": "6FPB_JrdElSt",
        "colab_type": "text"
      },
      "cell_type": "markdown",
      "source": [
        "## [3] 본인이 학습한 모델을 불러옵니다.\n",
        "\n",
        "### 텐서플로우의 체크포인트란(cpkt)?\n",
        "- 모델파일을 저장하는 방법\n",
        "- cpkt안에 선형회귀 모델의 W,b 정보도 들어있음\n",
        "\n"
      ]
    },
    {
      "metadata": {
        "id": "AT0LAuJ_yEnG",
        "colab_type": "code",
        "outputId": "b892291d-d283-46e5-dd08-014d1f340124",
        "colab": {
          "base_uri": "https://localhost:8080/",
          "height": 144
        }
      },
      "cell_type": "code",
      "source": [
        "\n",
        "# 저장된 모델을 불러오는 객체를 선언합니다.\n",
        "saver = tf.train.Saver()\n",
        "model = tf.global_variables_initializer()\n",
        "\n",
        "\n",
        "with tf.Session() as sess:\n",
        "    \n",
        "    # 그래프 연결\n",
        "    sess.run(model)\n",
        "    \n",
        "    # 학습 모델 로드\n",
        "    save_path = '/content/gdrive/My Drive/Colab Notebooks/saved.cpkt'\n",
        "    saver.restore(sess, save_path)\n",
        "    \n",
        "    # 모델에 넣을 입력데이터 가공\n",
        "    data = ((avg_temp, min_temp, max_temp, rain_fall), (0, 0, 0, 0))\n",
        "    arr = np.array(data, dtype=np.float32)\n",
        "    x_data = arr[0:4]\n",
        "    print(x_data[0])\n",
        "    \n",
        "    # 평균온도, 최대온도, 최저온도, 강수량으로 배추가격 예측을 위해 세션 실행\n",
        "    predict = sess.run(hypothesis, feed_dict={X: x_data})\n",
        "    print(predict[0])\n",
        "    \n",
        "#sess.close()"
      ],
      "execution_count": 3,
      "outputs": [
        {
          "output_type": "stream",
          "text": [
            "WARNING:tensorflow:From /usr/local/lib/python3.6/dist-packages/tensorflow/python/training/saver.py:1266: checkpoint_exists (from tensorflow.python.training.checkpoint_management) is deprecated and will be removed in a future version.\n",
            "Instructions for updating:\n",
            "Use standard file APIs to check for files with this prefix.\n",
            "INFO:tensorflow:Restoring parameters from /content/gdrive/My Drive/Colab Notebooks/saved.cpkt\n",
            "[-2.7 -6.6  2.   0.1]\n",
            "[2000.4531]\n"
          ],
          "name": "stdout"
        }
      ]
    },
    {
      "metadata": {
        "id": "I8OdOA9E25df",
        "colab_type": "code",
        "colab": {}
      },
      "cell_type": "code",
      "source": [
        ""
      ],
      "execution_count": 0,
      "outputs": []
    }
  ]
}