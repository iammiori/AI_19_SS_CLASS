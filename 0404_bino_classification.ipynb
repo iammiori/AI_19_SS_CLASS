{
  "nbformat": 4,
  "nbformat_minor": 0,
  "metadata": {
    "colab": {
      "name": "0404-bino classification.ipynb",
      "version": "0.3.2",
      "provenance": [],
      "collapsed_sections": [],
      "include_colab_link": true
    },
    "kernelspec": {
      "name": "python3",
      "display_name": "Python 3"
    }
  },
  "cells": [
    {
      "cell_type": "markdown",
      "metadata": {
        "id": "view-in-github",
        "colab_type": "text"
      },
      "source": [
        "<a href=\"https://colab.research.google.com/github/iammiori/AI_19_SS_CLASS/blob/master/0404_bino_classification.ipynb\" target=\"_parent\"><img src=\"https://colab.research.google.com/assets/colab-badge.svg\" alt=\"Open In Colab\"/></a>"
      ]
    },
    {
      "metadata": {
        "id": "3-_sdcsDSLmG",
        "colab_type": "code",
        "colab": {
          "base_uri": "https://localhost:8080/",
          "height": 161
        },
        "outputId": "e43472e8-44b3-4c49-dad3-70bd0d51a7bb"
      },
      "cell_type": "code",
      "source": [
        "from google.colab import drive\n",
        "import os\n",
        "\n",
        "if os.path.exists('/content/gdrive')==False:\n",
        "    drive.mount('/content/gdrive')\n",
        "    print('Google Drive is mounted\\n')\n",
        "else:\n",
        "    print('Google Drive is already mounted\\n')\n",
        "  "
      ],
      "execution_count": 1,
      "outputs": [
        {
          "output_type": "stream",
          "text": [
            "Go to this URL in a browser: https://accounts.google.com/o/oauth2/auth?client_id=947318989803-6bn6qk8qdgf4n4g3pfee6491hc0brc4i.apps.googleusercontent.com&redirect_uri=urn%3Aietf%3Awg%3Aoauth%3A2.0%3Aoob&scope=email%20https%3A%2F%2Fwww.googleapis.com%2Fauth%2Fdocs.test%20https%3A%2F%2Fwww.googleapis.com%2Fauth%2Fdrive%20https%3A%2F%2Fwww.googleapis.com%2Fauth%2Fdrive.photos.readonly%20https%3A%2F%2Fwww.googleapis.com%2Fauth%2Fpeopleapi.readonly&response_type=code\n",
            "\n",
            "Enter your authorization code:\n",
            "··········\n",
            "Mounted at /content/gdrive\n",
            "Google Drive is mounted\n",
            "\n"
          ],
          "name": "stdout"
        }
      ]
    },
    {
      "metadata": {
        "id": "VnkOgKiJYTIF",
        "colab_type": "code",
        "colab": {
          "base_uri": "https://localhost:8080/",
          "height": 35
        },
        "outputId": "fa75612f-c32b-4573-e2ed-0066cb73f8af"
      },
      "cell_type": "code",
      "source": [
        "import tensorflow as tf\n",
        "tf.equal(3,5)"
      ],
      "execution_count": 5,
      "outputs": [
        {
          "output_type": "execute_result",
          "data": {
            "text/plain": [
              "<tf.Tensor 'Equal_3:0' shape=() dtype=bool>"
            ]
          },
          "metadata": {
            "tags": []
          },
          "execution_count": 5
        }
      ]
    },
    {
      "metadata": {
        "id": "VAvH9SxFSjgk",
        "colab_type": "code",
        "colab": {
          "base_uri": "https://localhost:8080/",
          "height": 1101
        },
        "outputId": "4ab07548-3bc0-44c9-e215-b5fb8c8d9b32"
      },
      "cell_type": "code",
      "source": [
        "import tensorflow as tf\n",
        "\n",
        "tf.set_random_seed(777)\n",
        "\n",
        "x_data = [[1,2],[2,3],[3,1],[4,3],[5,3],[6,2]]\n",
        "y_data = [[0],[0],[0],[1],[1],[1]]\n",
        "\n",
        "# placeholder\n",
        "X = tf.placeholder(tf.float32, shape=[None, 2])\n",
        "Y = tf.placeholder(tf.float32, shape=[None, 1])\n",
        "\n",
        "# initialize\n",
        "W = tf.Variable(tf.random_normal([2, 1]), name='weight')\n",
        "b = tf.Variable(tf.random_normal([1]), name='bias')\n",
        "\n",
        "hypothesis = tf.sigmoid(tf.matmul(X,W)+b)\n",
        "\n",
        "cost = -tf.reduce_mean(Y*tf.log(hypothesis)+(1-Y)*tf.log(1-hypothesis))\n",
        "\n",
        "# 최적화\n",
        "train = tf.train.GradientDescentOptimizer(learning_rate=0.01).minimize(cost)\n",
        "\n",
        "predicted = tf.cast(hypothesis > 0.5, dtype = tf.float32)\n",
        "accuracy = tf.reduce_mean(tf.cast(tf.equal(predicted, Y), dtype=tf.float32))\n",
        "# tf.cast 는 텐서를 새로운 형태로 캐스팅 하는데 사용\n",
        "# 부동소수점형에서 정수형으로 바꾼 경우 소수점을 버림\n",
        "# boolean 형태면 True->1 False-> 0 출력\n",
        "\n",
        "sess = tf.Session()\n",
        "sess.run(tf.global_variables_initializer())\n",
        "\n",
        "for step in range(10001):\n",
        "  cost_val, _ = sess.run([cost,train], feed_dict={X:x_data, Y: y_data})\n",
        "  if (step%1000==0):\n",
        "    #print(\"hypothesis:{}\\n\".format(hypothesis))\n",
        "    #print(\":{}\\n\".format(predicted))\n",
        "    #print(\"accuracy:{}\\n\".format(accuracy))\n",
        "    #print(\"predicted:{}\\n\".format(predicted))\n",
        "    print(\"step:{}\\n\".format(step))\n",
        "    print(\"cost_val:{}\\n\".format(cost_val))\n",
        "\n",
        "# 학습 후 최종 결과 값 출력\n",
        "Rst_hypothesis, Rst_predict, Rst_accuracy = sess.run([hypothesis, predicted, accuracy],feed_dict={X: x_data, Y: y_data})\n",
        "print(\"\\nHypothesis: \\n\", Rst_hypothesis, \"\\nCorrect (Y): \\n\", Rst_predict, \"\\nAccuracy: \\n\", Rst_accuracy)\n",
        "    \n",
        "\n",
        "\n"
      ],
      "execution_count": 31,
      "outputs": [
        {
          "output_type": "stream",
          "text": [
            "step:0\n",
            "\n",
            "cost_val:1.7158523797988892\n",
            "\n",
            "step:1000\n",
            "\n",
            "cost_val:0.47888854146003723\n",
            "\n",
            "step:2000\n",
            "\n",
            "cost_val:0.3928947150707245\n",
            "\n",
            "step:3000\n",
            "\n",
            "cost_val:0.3349274694919586\n",
            "\n",
            "step:4000\n",
            "\n",
            "cost_val:0.28997883200645447\n",
            "\n",
            "step:5000\n",
            "\n",
            "cost_val:0.2545924484729767\n",
            "\n",
            "step:6000\n",
            "\n",
            "cost_val:0.22635771334171295\n",
            "\n",
            "step:7000\n",
            "\n",
            "cost_val:0.20349003374576569\n",
            "\n",
            "step:8000\n",
            "\n",
            "cost_val:0.18468987941741943\n",
            "\n",
            "step:9000\n",
            "\n",
            "cost_val:0.16901350021362305\n",
            "\n",
            "step:10000\n",
            "\n",
            "cost_val:0.15577132999897003\n",
            "\n",
            "\n",
            "Hypothesis: \n",
            " [[0.03342395]\n",
            " [0.16233245]\n",
            " [0.31745902]\n",
            " [0.77568734]\n",
            " [0.9359291 ]\n",
            " [0.978953  ]] \n",
            "Correct (Y): \n",
            " [[0.]\n",
            " [0.]\n",
            " [0.]\n",
            " [1.]\n",
            " [1.]\n",
            " [1.]] \n",
            "Accuracy: \n",
            " 1.0\n"
          ],
          "name": "stdout"
        }
      ]
    },
    {
      "metadata": {
        "id": "uajAuBL7c953",
        "colab_type": "code",
        "colab": {}
      },
      "cell_type": "code",
      "source": [
        ""
      ],
      "execution_count": 0,
      "outputs": []
    }
  ]
}