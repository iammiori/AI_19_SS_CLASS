{
  "nbformat": 4,
  "nbformat_minor": 0,
  "metadata": {
    "colab": {
      "name": "multi_variable_linear_regression_matrix",
      "version": "0.3.2",
      "provenance": [],
      "include_colab_link": true
    },
    "kernelspec": {
      "name": "python3",
      "display_name": "Python 3"
    }
  },
  "cells": [
    {
      "cell_type": "markdown",
      "metadata": {
        "id": "view-in-github",
        "colab_type": "text"
      },
      "source": [
        "<a href=\"https://colab.research.google.com/github/iammiori/AI_19_SS_CLASS/blob/master/multi_variable_linear_regression_matrix.ipynb\" target=\"_parent\"><img src=\"https://colab.research.google.com/assets/colab-badge.svg\" alt=\"Open In Colab\"/></a>"
      ]
    },
    {
      "metadata": {
        "id": "Hi-8HmavJyXH",
        "colab_type": "code",
        "colab": {
          "base_uri": "https://localhost:8080/",
          "height": 35
        },
        "outputId": "9357d2e8-ded9-436c-eba4-828eb1272e06"
      },
      "cell_type": "code",
      "source": [
        "# google mount\n",
        "from google.colab import drive\n",
        "import os\n",
        "if os.path.exists('/content/gdrive')==False:\n",
        "  drive.mount('/content/gdrive')\n",
        "  print(\"Google Drive is mounted\")\n",
        "else:\n",
        "  print(\"Already mounted\")"
      ],
      "execution_count": 1,
      "outputs": [
        {
          "output_type": "stream",
          "text": [
            "Already mounted\n"
          ],
          "name": "stdout"
        }
      ]
    },
    {
      "metadata": {
        "id": "Ea51CaL8KLa7",
        "colab_type": "code",
        "colab": {}
      },
      "cell_type": "code",
      "source": [
        "import tensorflow as tf\n",
        "tf.set_random_seed(777)"
      ],
      "execution_count": 0,
      "outputs": []
    },
    {
      "metadata": {
        "id": "bAeKFItwMBGt",
        "colab_type": "code",
        "colab": {
          "base_uri": "https://localhost:8080/",
          "height": 1190
        },
        "outputId": "c3c63ec3-ca46-40b7-a0cf-c250c54c7e8b"
      },
      "cell_type": "code",
      "source": [
        "# 입력 출력 데이터 행렬로 정의\n",
        "x_data = [[73., 80., 75.],\n",
        "          [93., 88., 93.],\n",
        "          [89., 91., 90.],\n",
        "          [96., 98., 100.],\n",
        "          [73., 66., 70.]]\n",
        "y_data = [[152.],\n",
        "          [185.],\n",
        "          [180.],\n",
        "          [196.],\n",
        "          [142.]]\n",
        "\n",
        "# placeholer\n",
        "# none : 입력해주는 대로 받겠다.\n",
        "# matrix 니까 shape써줌\n",
        "X = tf.placeholder(tf.float32, shape=[None, 3])\n",
        "Y = tf.placeholder(tf.float32, shape=[None, 1])\n",
        "\n",
        "# W, b 설정\n",
        "W = tf.Variable(tf.random_normal([3,1]),name='weight')\n",
        "b = tf.Variable(tf.random_normal([1]), name='bias')\n",
        "\n",
        "# hypothesis\n",
        "# 행렬의 곱이기 때문에 tf.matmul 사용\n",
        "\n",
        "hypothesis = tf.matmul(X,W) + b\n",
        "\n",
        "# cost\n",
        "cost = tf.reduce_mean(tf.square(hypothesis - Y))\n",
        "\n",
        "# 최적화 위해 gradient descent & minimize\n",
        "optimizer = tf.train.GradientDescentOptimizer(learning_rate=1e-5)\n",
        "train = optimizer.minimize(cost)\n",
        "\n",
        "# session open, execute\n",
        "sess = tf.Session()\n",
        "sess.run(tf.global_variables_initializer())\n",
        "\n",
        "# 학습 시작\n",
        "for step in range(10001):\n",
        "  cost_val, hy_val, _ = sess.run([cost,hypothesis, train],\n",
        "                                feed_dict={X: x_data, Y: y_data})\n",
        "  \n",
        "  if (step % 1000 ==0):\n",
        "    print(\"step :{} cost : {} prediction \\n{}\".format(step, cost_val, hy_val))"
      ],
      "execution_count": 8,
      "outputs": [
        {
          "output_type": "stream",
          "text": [
            "step :0 cost : 89865.5859375 prediction \n",
            "[[-124.822495]\n",
            " [-128.20485 ]\n",
            " [-138.01988 ]\n",
            " [-146.00453 ]\n",
            " [ -95.689354]]\n",
            "step :1000 cost : 25.371524810791016 prediction \n",
            "[[143.25471]\n",
            " [189.95967]\n",
            " [177.58372]\n",
            " [197.35243]\n",
            " [146.2558 ]]\n",
            "step :2000 cost : 15.922884941101074 prediction \n",
            "[[144.90034]\n",
            " [188.8397 ]\n",
            " [178.09839]\n",
            " [197.64362]\n",
            " [144.85454]]\n",
            "step :3000 cost : 10.37509536743164 prediction \n",
            "[[146.16331]\n",
            " [187.98192]\n",
            " [178.49559]\n",
            " [197.85172]\n",
            " [143.79573]]\n",
            "step :4000 cost : 7.098494529724121 prediction \n",
            "[[147.13423]\n",
            " [187.32411]\n",
            " [178.80304]\n",
            " [197.99672]\n",
            " [142.99783]]\n",
            "step :5000 cost : 5.145158767700195 prediction \n",
            "[[147.88228]\n",
            " [186.81895]\n",
            " [179.04198]\n",
            " [198.094  ]\n",
            " [142.39868]]\n",
            "step :6000 cost : 3.9636778831481934 prediction \n",
            "[[148.46016]\n",
            " [186.43025]\n",
            " [179.22855]\n",
            " [198.15517]\n",
            " [141.95088]]\n",
            "step :7000 cost : 3.2332637310028076 prediction \n",
            "[[148.9081 ]\n",
            " [186.13048]\n",
            " [179.37508]\n",
            " [198.18912]\n",
            " [141.61829]]\n",
            "step :8000 cost : 2.7672336101531982 prediction \n",
            "[[149.25676]\n",
            " [185.89857]\n",
            " [179.49097]\n",
            " [198.20262]\n",
            " [141.37334]]\n",
            "step :9000 cost : 2.45693039894104 prediction \n",
            "[[149.52953]\n",
            " [185.71852]\n",
            " [179.58337]\n",
            " [198.2008 ]\n",
            " [141.195  ]]\n",
            "step :10000 cost : 2.2390265464782715 prediction \n",
            "[[149.74428]\n",
            " [185.57808]\n",
            " [179.65779]\n",
            " [198.1876 ]\n",
            " [141.06729]]\n"
          ],
          "name": "stdout"
        }
      ]
    }
  ]
}
