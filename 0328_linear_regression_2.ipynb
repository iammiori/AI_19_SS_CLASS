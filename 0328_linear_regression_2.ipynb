{
  "nbformat": 4,
  "nbformat_minor": 0,
  "metadata": {
    "colab": {
      "name": "linear_regression",
      "version": "0.3.2",
      "provenance": [],
      "include_colab_link": true
    },
    "kernelspec": {
      "name": "python3",
      "display_name": "Python 3"
    }
  },
  "cells": [
    {
      "cell_type": "markdown",
      "metadata": {
        "id": "view-in-github",
        "colab_type": "text"
      },
      "source": [
        "<a href=\"https://colab.research.google.com/github/iammiori/AI_19_SS_CLASS/blob/master/0328_linear_regression_2.ipynb\" target=\"_parent\"><img src=\"https://colab.research.google.com/assets/colab-badge.svg\" alt=\"Open In Colab\"/></a>"
      ]
    },
    {
      "metadata": {
        "id": "2dWnHiw5RdeE",
        "colab_type": "code",
        "outputId": "1cd582d5-57aa-4d50-d265-fac6a1de71e8",
        "colab": {
          "base_uri": "https://localhost:8080/",
          "height": 52
        }
      },
      "cell_type": "code",
      "source": [
        "# google mount\n",
        "from google.colab import drive\n",
        "import os\n",
        "if os.path.exists('/content/gdrive')==False:\n",
        "  drive.mount('/content/gdrive')\n",
        "  print('GoogleDrive is mounted\\n')\n",
        "else:\n",
        "  print(\"Already mounted\\n\")"
      ],
      "execution_count": 0,
      "outputs": [
        {
          "output_type": "stream",
          "text": [
            "Already mounted\n",
            "\n"
          ],
          "name": "stdout"
        }
      ]
    },
    {
      "metadata": {
        "id": "81eltWSfRhF4",
        "colab_type": "code",
        "colab": {}
      },
      "cell_type": "code",
      "source": [
        "import tensorflow as tf"
      ],
      "execution_count": 0,
      "outputs": []
    },
    {
      "metadata": {
        "id": "cStWoYyYRjJ0",
        "colab_type": "code",
        "outputId": "fa0671c6-fa55-4c92-b357-63de7e410e5f",
        "colab": {
          "base_uri": "https://localhost:8080/",
          "height": 461
        }
      },
      "cell_type": "code",
      "source": [
        "# random seed\n",
        "tf.set_random_seed(777)\n",
        "\n",
        "# X, Y 설정\n",
        "x_train =[202.6183, 200.0614, 199.0766, 197.1534, 197.5498, 197.237 ]\n",
        "y_train= [ 94.03061, 108.9159 , 123.1589 , 137.2437 , 151.315  , 164.3793 ]\n",
        "\n",
        "# tensor \n",
        "W = tf.Variable(tf.random_normal([1]), name='weight')\n",
        "b = tf.Variable(tf.random_normal([1]), name='bias')\n",
        "\n",
        "# hypothesis \n",
        "hypothesis = x_train * W + b\n",
        "\n",
        "# cost\n",
        "# cost = 1/m(시그마 i=1 부터 m까지) (hypothesis-y)^2\n",
        "# mean 사용\n",
        "# reduce_mean \n",
        "cost = tf.reduce_mean(tf.square(hypothesis - y_train))\n",
        "\n",
        "# 이제 cost가 최소가 되는 거 찾기 위해\n",
        "# gradient descent 사용\n",
        "train = tf.train.GradientDescentOptimizer(learning_rate=0.000001).minimize(cost)\n",
        "\n",
        "# session open , execute\n",
        "sess = tf.Session()\n",
        "sess.run(tf.global_variables_initializer())\n",
        "\n",
        "for step in range(100001):\n",
        "  # _, : return 값을 받겠다...\n",
        "  _, cost_val, W_val, b_val = sess.run([train,cost, W, b])\n",
        "  \n",
        "  if step % 10000 ==0:\n",
        "    print(\"step : {}  cost_val : {}  W_val: {}  b_val : {}\\n\".format(step,cost_val,W_val,b_val))\n",
        "\n"
      ],
      "execution_count": 0,
      "outputs": [
        {
          "output_type": "stream",
          "text": [
            "WARNING:tensorflow:From /usr/local/lib/python3.6/dist-packages/tensorflow/python/framework/op_def_library.py:263: colocate_with (from tensorflow.python.framework.ops) is deprecated and will be removed in a future version.\n",
            "Instructions for updating:\n",
            "Colocations handled automatically by placer.\n",
            "step : 0  cost_val : 96115.5703125  W_val: [2.0857143]  b_val : [-0.82103574]\n",
            "\n",
            "step : 10000  cost_val : 637.0241088867188  W_val: [0.65562105]  b_val : [-0.82345736]\n",
            "\n",
            "step : 20000  cost_val : 637.02197265625  W_val: [0.6555971]  b_val : [-0.818689]\n",
            "\n",
            "step : 30000  cost_val : 637.0197143554688  W_val: [0.65557307]  b_val : [-0.8139206]\n",
            "\n",
            "step : 40000  cost_val : 637.0176391601562  W_val: [0.65554917]  b_val : [-0.80915225]\n",
            "\n",
            "step : 50000  cost_val : 637.0154418945312  W_val: [0.65552515]  b_val : [-0.8043839]\n",
            "\n",
            "step : 60000  cost_val : 637.0133666992188  W_val: [0.65550125]  b_val : [-0.7996155]\n",
            "\n",
            "step : 70000  cost_val : 637.010986328125  W_val: [0.6554772]  b_val : [-0.79484713]\n",
            "\n",
            "step : 80000  cost_val : 637.0088500976562  W_val: [0.6554533]  b_val : [-0.79007876]\n",
            "\n",
            "step : 90000  cost_val : 637.0067749023438  W_val: [0.6554293]  b_val : [-0.7853104]\n",
            "\n",
            "step : 100000  cost_val : 637.0046997070312  W_val: [0.6554054]  b_val : [-0.780542]\n",
            "\n"
          ],
          "name": "stdout"
        }
      ]
    },
    {
      "metadata": {
        "id": "1SnsUUhwb-Rx",
        "colab_type": "text"
      },
      "cell_type": "markdown",
      "source": [
        "- W = 1\n",
        "- b = 0 \n",
        "- 에 가까워지고 있음"
      ]
    }
  ]
}