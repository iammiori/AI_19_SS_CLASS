{
  "nbformat": 4,
  "nbformat_minor": 0,
  "metadata": {
    "colab": {
      "name": "multi_variable_linear_regression",
      "version": "0.3.2",
      "provenance": [],
      "include_colab_link": true
    },
    "kernelspec": {
      "name": "python3",
      "display_name": "Python 3"
    }
  },
  "cells": [
    {
      "cell_type": "markdown",
      "metadata": {
        "id": "view-in-github",
        "colab_type": "text"
      },
      "source": [
        "<a href=\"https://colab.research.google.com/github/iammiori/AI_19_SS_CLASS/blob/master/0404_-multi_variable_linear_regression.ipynb\" target=\"_parent\"><img src=\"https://colab.research.google.com/assets/colab-badge.svg\" alt=\"Open In Colab\"/></a>"
      ]
    },
    {
      "metadata": {
        "id": "MHqXgPNqGViH",
        "colab_type": "code",
        "colab": {
          "base_uri": "https://localhost:8080/",
          "height": 161
        },
        "outputId": "7e0bf7e1-49ec-41d0-9eac-e4d3f3065c35"
      },
      "cell_type": "code",
      "source": [
        "# google mount\n",
        "from google.colab import drive\n",
        "import os\n",
        "\n",
        "if os.path.exists('/content/gdrive')==False:\n",
        "  drive.mount('/content/gdrive')\n",
        "  print(\"Google Drive is mounted\\n\")\n",
        "else:\n",
        "  print(\"Already mounted\")"
      ],
      "execution_count": 2,
      "outputs": [
        {
          "output_type": "stream",
          "text": [
            "Go to this URL in a browser: https://accounts.google.com/o/oauth2/auth?client_id=947318989803-6bn6qk8qdgf4n4g3pfee6491hc0brc4i.apps.googleusercontent.com&redirect_uri=urn%3Aietf%3Awg%3Aoauth%3A2.0%3Aoob&scope=email%20https%3A%2F%2Fwww.googleapis.com%2Fauth%2Fdocs.test%20https%3A%2F%2Fwww.googleapis.com%2Fauth%2Fdrive%20https%3A%2F%2Fwww.googleapis.com%2Fauth%2Fdrive.photos.readonly%20https%3A%2F%2Fwww.googleapis.com%2Fauth%2Fpeopleapi.readonly&response_type=code\n",
            "\n",
            "Enter your authorization code:\n",
            "··········\n",
            "Mounted at /content/gdrive\n",
            "Google Drive is mounted\n",
            "\n"
          ],
          "name": "stdout"
        }
      ]
    },
    {
      "metadata": {
        "id": "j62j17ZSGsv_",
        "colab_type": "code",
        "colab": {}
      },
      "cell_type": "code",
      "source": [
        "import tensorflow as tf\n",
        "tf.set_random_seed(777)"
      ],
      "execution_count": 0,
      "outputs": []
    },
    {
      "metadata": {
        "id": "oAfQlHZvG4-n",
        "colab_type": "code",
        "colab": {
          "base_uri": "https://localhost:8080/",
          "height": 286
        },
        "outputId": "b9ec013f-0063-4264-bb1b-a68788324c7c"
      },
      "cell_type": "code",
      "source": [
        "# instance 가 여러개인 3명의 데이터 입력\n",
        "\n",
        "x1_data = [73., 93., 89., 96., 73.]\n",
        "x2_data = [80., 88., 91., 98., 66.]\n",
        "x3_data = [75., 93., 90., 100., 70.]\n",
        "\n",
        "# 결과 데이터 입력\n",
        "y_data = [152., 185., 180., 196., 142.]\n",
        "\n",
        "# placeholder\n",
        "\n",
        "x1 = tf.placeholder(tf.float32)\n",
        "x2 = tf.placeholder(tf.float32)\n",
        "x3 = tf.placeholder(tf.float32)\n",
        "Y = tf.placeholder(tf.float32)\n",
        "\n",
        "# tensor 변수 설정\n",
        "w1 = tf.Variable(tf.random_normal([1]), name='weight1')\n",
        "w2 = tf.Variable(tf.random_normal([1]), name='weight2')\n",
        "w3 = tf.Variable(tf.random_normal([1]), name='weight3')\n",
        "b = tf.Variable(tf.random_normal([1]),name='bias')\n",
        "\n",
        "# hypothesis\n",
        "hypothesis = x1* w1 + x2*w2 + x3*w3 + b\n",
        "\n",
        "# cost\n",
        "cost = tf.reduce_mean(tf.square(hypothesis-Y))\n",
        "\n",
        "# cost가 제일 작아지는 거 찾기위해\n",
        "# gradient descent 쓰고\n",
        "# 최솟값 찾아\n",
        "optimizer = tf.train.GradientDescentOptimizer(learning_rate=1e-5)\n",
        "train = optimizer.minimize(cost)\n",
        "\n",
        "#session open, execute\n",
        "sess = tf.Session()\n",
        "sess.run(tf.global_variables_initializer())\n",
        "\n",
        "# 학습 시작\n",
        "for step in range(10001):\n",
        "  cost_val, hy_val, _ = sess.run([cost,hypothesis,train],\n",
        "                                 feed_dict={x1:x1_data,x2:x2_data,x3:x3_data,Y: y_data})\n",
        "  \n",
        "  if (step % 1000 ==0 ):\n",
        "    print(\"step : {} Cost : {} Prediction : {}\".format(step, cost_val, hy_val))\n"
      ],
      "execution_count": 5,
      "outputs": [
        {
          "output_type": "stream",
          "text": [
            "WARNING:tensorflow:From /usr/local/lib/python3.6/dist-packages/tensorflow/python/ops/math_ops.py:3066: to_int32 (from tensorflow.python.ops.math_ops) is deprecated and will be removed in a future version.\n",
            "Instructions for updating:\n",
            "Use tf.cast instead.\n",
            "step : 0 Cost : 115645.0625 Prediction : [-150.96513 -177.5399  -176.85722 -193.12367 -134.11221]\n",
            "step : 1000 Cost : 0.3123630881309509 Prediction : [150.93605 185.02017 180.53708 196.04834 142.37233]\n",
            "step : 2000 Cost : 0.25923341512680054 Prediction : [151.05879 184.93633 180.57506 196.07263 142.26509]\n",
            "step : 3000 Cost : 0.2282448261976242 Prediction : [151.15273 184.87227 180.60422 196.0906  142.1837 ]\n",
            "step : 4000 Cost : 0.21013693511486053 Prediction : [151.22467 184.82324 180.62662 196.10376 142.12202]\n",
            "step : 5000 Cost : 0.19952698051929474 Prediction : [151.27985 184.78572 180.64389 196.11325 142.07535]\n",
            "step : 6000 Cost : 0.19327618181705475 Prediction : [151.32224 184.75697 180.65723 196.11998 142.04015]\n",
            "step : 7000 Cost : 0.18956485390663147 Prediction : [151.35484 184.73491 180.66754 196.1246  142.01364]\n",
            "step : 8000 Cost : 0.18733882904052734 Prediction : [151.38    184.71794 180.67558 196.12764 141.99376]\n",
            "step : 9000 Cost : 0.18597489595413208 Prediction : [151.39946 184.70488 180.68185 196.12947 141.97897]\n",
            "step : 10000 Cost : 0.185125470161438 Prediction : [151.4146  184.69478 180.68683 196.13043 141.968  ]\n"
          ],
          "name": "stdout"
        }
      ]
    }
  ]
}
