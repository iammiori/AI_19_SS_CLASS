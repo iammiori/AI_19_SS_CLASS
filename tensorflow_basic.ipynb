{
  "nbformat": 4,
  "nbformat_minor": 0,
  "metadata": {
    "colab": {
      "name": "tensorflow_basic",
      "version": "0.3.2",
      "provenance": [],
      "include_colab_link": true
    },
    "kernelspec": {
      "name": "python3",
      "display_name": "Python 3"
    }
  },
  "cells": [
    {
      "cell_type": "markdown",
      "metadata": {
        "id": "view-in-github",
        "colab_type": "text"
      },
      "source": [
        "<a href=\"https://colab.research.google.com/github/iammiori/AI_19_SS_CLASS/blob/master/tensorflow_basic.ipynb\" target=\"_parent\"><img src=\"https://colab.research.google.com/assets/colab-badge.svg\" alt=\"Open In Colab\"/></a>"
      ]
    },
    {
      "metadata": {
        "id": "DW8jjbu7O6_6",
        "colab_type": "code",
        "colab": {
          "base_uri": "https://localhost:8080/",
          "height": 161
        },
        "outputId": "20bb25ac-d0be-414b-d169-c4467ab4caee"
      },
      "cell_type": "code",
      "source": [
        "# google mount\n",
        "from google.colab import drive\n",
        "import os\n",
        "if os.path.exists('/content/gdrive')==False:\n",
        "  drive.mount('/content/gdrive')\n",
        "  print('GoogleDrive is mounted\\n')\n",
        "else:\n",
        "  print(\"Already mounted\\n\")"
      ],
      "execution_count": 3,
      "outputs": [
        {
          "output_type": "stream",
          "text": [
            "Go to this URL in a browser: https://accounts.google.com/o/oauth2/auth?client_id=947318989803-6bn6qk8qdgf4n4g3pfee6491hc0brc4i.apps.googleusercontent.com&redirect_uri=urn%3Aietf%3Awg%3Aoauth%3A2.0%3Aoob&scope=email%20https%3A%2F%2Fwww.googleapis.com%2Fauth%2Fdocs.test%20https%3A%2F%2Fwww.googleapis.com%2Fauth%2Fdrive%20https%3A%2F%2Fwww.googleapis.com%2Fauth%2Fdrive.photos.readonly%20https%3A%2F%2Fwww.googleapis.com%2Fauth%2Fpeopleapi.readonly&response_type=code\n",
            "\n",
            "Enter your authorization code:\n",
            "··········\n",
            "Mounted at /content/gdrive\n",
            "GoogleDrive is mounted\n",
            "\n"
          ],
          "name": "stdout"
        }
      ]
    },
    {
      "metadata": {
        "id": "aWuO7VWAPZYn",
        "colab_type": "code",
        "colab": {}
      },
      "cell_type": "code",
      "source": [
        "import tensorflow as tf"
      ],
      "execution_count": 0,
      "outputs": []
    },
    {
      "metadata": {
        "id": "P9ODgmGxPnnB",
        "colab_type": "code",
        "colab": {
          "base_uri": "https://localhost:8080/",
          "height": 70
        },
        "outputId": "62e5ed65-3c10-4898-9d69-d85870d56be3"
      },
      "cell_type": "code",
      "source": [
        "tf.set_random_seed(777)\n",
        "# random seed 설정\n",
        "\n",
        "W = tf.Variable(tf.random_normal([1]), name='weight')\n",
        "# tensor 크기가 1짜리인 랜던값을 W에 대입 이를 weight라 지정\n",
        "b = tf.Variable(tf.random_normal([1]), name='bias')\n",
        "# tensor 크기가 1짜리인 랜덤값을 b에 대입 이를 bias로 지정\n",
        "\n",
        "# Variable 이기에 초기화 필수\n",
        "init_op = tf.global_variables_initializer()\n",
        "\n",
        "# sess, session\n",
        "sess = tf.Session()\n",
        "sess.run(init_op)\n",
        "\n",
        "# session 실행해서 W,b 값 입력후 출력 요청\n",
        "W_final, b_final = sess.run([W,b])\n",
        "\n",
        "print(\"W_final : {}\\nb_final: {}\\n\".format(W_final,b_final))"
      ],
      "execution_count": 7,
      "outputs": [
        {
          "output_type": "stream",
          "text": [
            "W_final : [-1.1448299]\n",
            "b_final: [-0.44081408]\n",
            "\n"
          ],
          "name": "stdout"
        }
      ]
    }
  ]
}