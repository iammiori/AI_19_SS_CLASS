{
  "nbformat": 4,
  "nbformat_minor": 0,
  "metadata": {
    "colab": {
      "name": "과제2_Skeleton의 사본",
      "version": "0.3.2",
      "provenance": [],
      "collapsed_sections": [],
      "include_colab_link": true
    },
    "kernelspec": {
      "name": "python3",
      "display_name": "Python 3"
    }
  },
  "cells": [
    {
      "cell_type": "markdown",
      "metadata": {
        "id": "view-in-github",
        "colab_type": "text"
      },
      "source": [
        "<a href=\"https://colab.research.google.com/github/iammiori/AI_19_SS_CLASS/blob/master/%EA%B3%BC%EC%A0%9C2_Skeleton_code.ipynb\" target=\"_parent\"><img src=\"https://colab.research.google.com/assets/colab-badge.svg\" alt=\"Open In Colab\"/></a>"
      ]
    },
    {
      "metadata": {
        "id": "_V26pT9lLgBR",
        "colab_type": "text"
      },
      "cell_type": "markdown",
      "source": [
        "## 파이썬으로 Gradient Descent Algorithm 작성하기\n",
        "\n",
        "\n",
        "### 과제 방법\n",
        "\n",
        "gradient_descent 함수를 완성하시오.\n",
        "\n",
        "반드시 스스로 직접! 해보세요.\n"
      ]
    },
    {
      "metadata": {
        "id": "tnClYaE_MUjt",
        "colab_type": "code",
        "colab": {
          "base_uri": "https://localhost:8080/",
          "height": 35
        },
        "outputId": "97044835-18ed-4626-8157-796b48816893"
      },
      "cell_type": "code",
      "source": [
        "# slicing 연습 코드\n",
        "import numpy as np\n",
        "arr = np.array([[1,2],[2,3],[5,10]])\n",
        "len(arr[:,0])\n",
        "np.dot(arr[:,0],2)"
      ],
      "execution_count": 10,
      "outputs": [
        {
          "output_type": "execute_result",
          "data": {
            "text/plain": [
              "array([ 2,  4, 10])"
            ]
          },
          "metadata": {
            "tags": []
          },
          "execution_count": 10
        }
      ]
    },
    {
      "metadata": {
        "id": "5G7XhipuNUMt",
        "colab_type": "text"
      },
      "cell_type": "markdown",
      "source": [
        "20190407_data.csv 는 2열을 가짐.\n",
        "\n",
        "필요한 index 0, 1 "
      ]
    },
    {
      "metadata": {
        "id": "TIG0uklDJc82",
        "colab_type": "code",
        "colab": {}
      },
      "cell_type": "code",
      "source": [
        "\n",
        "from numpy import *\n",
        "import os\n",
        "\n",
        "\n",
        "def gradient_descent(points, starting_b, starting_m, learning_rate, num_iterations):\n",
        "\n",
        "    #\n",
        "    # 본 함수를 완성하시오.\n",
        "    #   \n",
        "    b = starting_b\n",
        "    m = starting_m\n",
        "    \n",
        "    points_size =len(points[:,1])\n",
        "    # 행 size 확인 가능\n",
        "    \n",
        "    \n",
        "    for i in range(num_iterations):\n",
        "    #   np.dot\n",
        "      predict = dot(points[:,0],m)+b\n",
        "      \n",
        "      m=m-(1/points_size)*learning_rate*(points[:,0].T.dot(predict-points[:,1]))\n",
        "      \n",
        "      b=b-learning_rate*(mean(predict-points[:,1]))\n",
        "      \n",
        "      if (i%100==0):\n",
        "        print(\"b is {} , m is {}\\n\".format(m,b))\n",
        "      \n",
        "    return [b, m]\n",
        "\n"
      ],
      "execution_count": 0,
      "outputs": []
    },
    {
      "metadata": {
        "id": "iXCfRQ3_Fgip",
        "colab_type": "code",
        "outputId": "7cc0cb2e-d930-46b3-b9d8-8f5aec91def6",
        "colab": {
          "base_uri": "https://localhost:8080/",
          "height": 568
        }
      },
      "cell_type": "code",
      "source": [
        "\n",
        "\n",
        "\n",
        "\n",
        "# 학습 데이터 다운로드\n",
        "if os.path.exists('20190407_data.csv')==False:\n",
        "    print('Train data downloading..')\n",
        "    ! curl 'https://raw.githubusercontent.com/unizard/2019.Spring.AI/master/20190407_data.csv' -o './20190407_data.csv'        \n",
        "    print('Done..\\n')\n",
        "else:\n",
        "    print('File already exists \\n')\n",
        "    \n",
        "\n",
        "\n",
        "\n",
        "def run():\n",
        "    points = genfromtxt(\"20190407_data.csv\", delimiter=\",\")\n",
        "    learning_rate = 0.0001\n",
        "    initial_b = 0 # initial y-intercept guess\n",
        "    initial_m = 0 # initial slope guess\n",
        "    num_iterations = 1000\n",
        "    \n",
        "    print(\"========================\")\n",
        "    print(\" Start\")    \n",
        "    print(\"========================\")\n",
        "    [b, w] = gradient_descent(points, initial_b, initial_m, learning_rate, num_iterations)\n",
        "    print(\"b=\",b)\n",
        "    print(\"w=\",w)\n",
        "\n",
        "    \n",
        "    \n",
        "    \n",
        "if __name__ == '__main__':\n",
        "    run()\n"
      ],
      "execution_count": 12,
      "outputs": [
        {
          "output_type": "stream",
          "text": [
            "Train data downloading..\n",
            "  % Total    % Received % Xferd  Average Speed   Time    Time     Time  Current\n",
            "                                 Dload  Upload   Total   Spent    Left  Speed\n",
            "100  3778  100  3778    0     0  18796      0 --:--:-- --:--:-- --:--:-- 18796\n",
            "Done..\n",
            "\n",
            "========================\n",
            " Start\n",
            "========================\n",
            "b is 0.36853514867955284 , m is 0.007273505055368647\n",
            "\n",
            "b is 1.4788611513210825 , m is 0.03210195118313762\n",
            "\n",
            "b is 1.478802127626851 , m is 0.03510498397974968\n",
            "\n",
            "b is 1.4787431262028465 , m is 0.03810688368203017\n",
            "\n",
            "b is 1.4786841470410628 , m is 0.04110765071752233\n",
            "\n",
            "b is 1.4786251901330996 , m is 0.044107285513600096\n",
            "\n",
            "b is 1.4785662554705605 , m is 0.04710578849747629\n",
            "\n",
            "b is 1.4785073430450515 , m is 0.050103160096202554\n",
            "\n",
            "b is 1.4784484528481827 , m is 0.053099400736669404\n",
            "\n",
            "b is 1.478389584871567 , m is 0.05609451084560616\n",
            "\n",
            "b= 0.0590585566421608\n",
            "w= 1.4783313274545458\n"
          ],
          "name": "stdout"
        }
      ]
    },
    {
      "metadata": {
        "id": "wehFpOrHX_eg",
        "colab_type": "code",
        "colab": {
          "base_uri": "https://localhost:8080/",
          "height": 316
        },
        "outputId": "420e9c23-7eef-4aaf-992b-b8ae7bc51cfe"
      },
      "cell_type": "code",
      "source": [
        "import matplotlib.pyplot as plt\n",
        "import pandas as pd\n",
        "\n",
        "fig_1 = pd.read_csv('20190407_data.csv')\n",
        "plt.title(\"Plot\")\n",
        "plt.plot(fig_1)"
      ],
      "execution_count": 17,
      "outputs": [
        {
          "output_type": "execute_result",
          "data": {
            "text/plain": [
              "[<matplotlib.lines.Line2D at 0x7fba84cb6c88>,\n",
              " <matplotlib.lines.Line2D at 0x7fba84cb6eb8>]"
            ]
          },
          "metadata": {
            "tags": []
          },
          "execution_count": 17
        },
        {
          "output_type": "display_data",
          "data": {
            "image/png": "[encoded data removed]",
            "text/plain": [
              "<Figure size 432x288 with 1 Axes>"
            ]
          },
          "metadata": {
            "tags": []
          }
        }
      ]
    },
    {
      "metadata": {
        "id": "WEgaFQPeQaHs",
        "colab_type": "code",
        "colab": {}
      },
      "cell_type": "code",
      "source": [
        ""
      ],
      "execution_count": 0,
      "outputs": []
    }
  ]
}