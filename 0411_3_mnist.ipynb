{
  "nbformat": 4,
  "nbformat_minor": 0,
  "metadata": {
    "colab": {
      "name": "0411-3",
      "version": "0.3.2",
      "provenance": [],
      "collapsed_sections": [],
      "include_colab_link": true
    },
    "kernelspec": {
      "name": "python3",
      "display_name": "Python 3"
    }
  },
  "cells": [
    {
      "cell_type": "markdown",
      "metadata": {
        "id": "view-in-github",
        "colab_type": "text"
      },
      "source": [
        "<a href=\"https://colab.research.google.com/github/iammiori/AI_19_SS_CLASS/blob/master/0411_3_mnist.ipynb\" target=\"_parent\"><img src=\"https://colab.research.google.com/assets/colab-badge.svg\" alt=\"Open In Colab\"/></a>"
      ]
    },
    {
      "metadata": {
        "id": "SwxA1tKp7Ad4",
        "colab_type": "text"
      },
      "cell_type": "markdown",
      "source": [
        "**Mnist 데이터 셋으로 손글씨 데이터 분류**\n",
        "- 입력 데이터는 28x28 영상데이터를 784차원의 1차원 벡터로 사용\n",
        "- 출력데이터는 숫자 정답\n",
        "\n",
        "### 1) 손글씨 데이터 정확도 올릴려면,\n",
        "- parameters 인 num_epochs 와 batch_size 변경\n",
        "      - num_epochs = 50, batch_size = 100"
      ]
    },
    {
      "metadata": {
        "id": "VGllBEqa7tI4",
        "colab_type": "code",
        "colab": {
          "base_uri": "https://localhost:8080/",
          "height": 52
        },
        "outputId": "ed882f0f-a707-4ffe-b15d-1b9cbc5cfc9d"
      },
      "cell_type": "code",
      "source": [
        "from google.colab import drive\n",
        "import os\n",
        "\n",
        "if os.path.exists('/content/gdrive')==False:\n",
        "    drive.mount('/content/gdrive')\n",
        "    print('Google Drive is mounted\\n')\n",
        "else:\n",
        "    print('Google Drive is already mounted\\n')"
      ],
      "execution_count": 2,
      "outputs": [
        {
          "output_type": "stream",
          "text": [
            "Google Drive is already mounted\n",
            "\n"
          ],
          "name": "stdout"
        }
      ]
    },
    {
      "metadata": {
        "id": "ijfpFEZX7Fop",
        "colab_type": "code",
        "colab": {}
      },
      "cell_type": "code",
      "source": [
        "import tensorflow as tf\n",
        "import matplotlib.pyplot as plt\n",
        "import random"
      ],
      "execution_count": 0,
      "outputs": []
    },
    {
      "metadata": {
        "id": "tJZ5MwFq7jy9",
        "colab_type": "code",
        "colab": {
          "base_uri": "https://localhost:8080/",
          "height": 1300
        },
        "outputId": "022240e2-6fc8-4a25-83e0-51b0e1fa8f1a"
      },
      "cell_type": "code",
      "source": [
        "# random seed 설정\n",
        "tf.set_random_seed(777)\n",
        "\n",
        "\n",
        "# 데이터 가져오기\n",
        "from tensorflow.examples.tutorials.mnist import input_data\n",
        "mnist = input_data.read_data_sets(\"MNIST_data/\", one_hot=True)\n",
        "# one_hot : label 데이터셋을 만들 때, label 을 one-hot 방식으로 처리한 것인지\n",
        "# default : False 라서 사용할거면 True 로 꼭 설정\n",
        "# one_hot encoding : 어 집합의 크기를 벡터의 크기로 하고, 표현하고 싶은 단어의 인덱스에 1의 값을 부여\n",
        "#다른 인덱스에는 0을 부여하는 단어의 벡터 표현\n",
        "\n",
        "nb_classes = 10\n",
        "\n",
        "# MNIST data image of shape 28 * 28 = 784\n",
        "# 784 차원\n",
        "# placeholder\n",
        "X = tf.placeholder(tf.float32, [None, 784])\n",
        "\n",
        "# 0 - 9 digits recognition = 10 classes\n",
        "Y = tf.placeholder(tf.float32, [None, nb_classes])\n",
        "\n",
        "# Weight, bias\n",
        "W = tf.Variable(tf.random_normal([784, nb_classes]))\n",
        "b = tf.Variable(tf.random_normal([nb_classes]))\n",
        "\n",
        "\n",
        "\n",
        "# softmax 사용해서 hypothesis\n",
        "hypothesis = tf.nn.softmax(tf.matmul(X, W) + b)\n",
        "cost = tf.reduce_mean(-tf.reduce_sum(Y * tf.log(hypothesis), axis=1))\n",
        "train = tf.train.GradientDescentOptimizer(learning_rate=0.1).minimize(cost)\n",
        "\n",
        "\n",
        "\n",
        "# Test model\n",
        "is_correct = tf.equal(tf.argmax(hypothesis, 1), tf.argmax(Y, 1))\n",
        "accuracy = tf.reduce_mean(tf.cast(is_correct, tf.float32))\n",
        "\n",
        "# parameters\n",
        "num_epochs = 50  #15\n",
        "batch_size = 100\n",
        "num_iterations = int(mnist.train.num_examples / batch_size)\n",
        "# num_iterations = 1 Epoch 달성위해 배치 몇번 돌았는지 \n",
        "\n",
        "# 배치란?\n",
        "# Batch : 방대한 양의 데이터를 나눠서 갖고오고 싶을 때, batch 사용\n",
        "# tf.train.batch()\n",
        "# Epoch : 전체 데이터를 학습하는 횟수.\n",
        "# 말인즉슨, 1 Epoch = 전체 데이터 학습\n",
        "# ex ) 훈련 데이터가 1000개 batch_size = 200 일때,\n",
        "# 1 Epoch 달성하려면 batch를 5번 반복 (Iteration) 해야함.\n",
        "\n",
        "with tf.Session() as sess:\n",
        "    sess.run(tf.global_variables_initializer())\n",
        "    # Training cycle\n",
        "    for epoch in range(num_epochs):\n",
        "        avg_cost = 0\n",
        "\n",
        "        for i in range(num_iterations):\n",
        "            batch_xs, batch_ys = mnist.train.next_batch(batch_size)\n",
        "            _, cost_val = sess.run([train, cost], feed_dict={X: batch_xs, Y: batch_ys})\n",
        "            avg_cost += cost_val / num_iterations\n",
        "\n",
        "        print(\"Epoch: {:04d}, Cost: {:.9f}\".format(epoch + 1, avg_cost))\n",
        "\n",
        "    print(\"Learning finished\")\n",
        "    \n",
        "    # 학습끝\n",
        "    \n",
        "    # Test\n",
        "\n",
        "    # Test the model using test sets\n",
        "    print(\n",
        "        \"Accuracy: \",\n",
        "        accuracy.eval(\n",
        "            session=sess, feed_dict={X: mnist.test.images, Y: mnist.test.labels}\n",
        "        ),\n",
        "    )\n",
        "\n",
        "    # Get one and predict\n",
        "    r = random.randint(0, mnist.test.num_examples - 1)\n",
        "    print(\"Label: \", sess.run(tf.argmax(mnist.test.labels[r : r + 1], 1)))\n",
        "    print(\n",
        "        \"Prediction: \",\n",
        "        sess.run(tf.argmax(hypothesis, 1), feed_dict={X: mnist.test.images[r : r + 1]}),\n",
        "    )\n",
        "\n",
        "    plt.imshow(\n",
        "        mnist.test.images[r : r + 1].reshape(28, 28),\n",
        "        cmap=\"Greys\",\n",
        "        interpolation=\"nearest\",\n",
        "    )\n",
        "    plt.show()\n"
      ],
      "execution_count": 6,
      "outputs": [
        {
          "output_type": "stream",
          "text": [
            "Extracting MNIST_data/train-images-idx3-ubyte.gz\n",
            "Extracting MNIST_data/train-labels-idx1-ubyte.gz\n",
            "Extracting MNIST_data/t10k-images-idx3-ubyte.gz\n",
            "Extracting MNIST_data/t10k-labels-idx1-ubyte.gz\n",
            "Epoch: 0001, Cost: 2.818828986\n",
            "Epoch: 0002, Cost: 1.085257435\n",
            "Epoch: 0003, Cost: 0.864798745\n",
            "Epoch: 0004, Cost: 0.755770931\n",
            "Epoch: 0005, Cost: 0.686584523\n",
            "Epoch: 0006, Cost: 0.637953204\n",
            "Epoch: 0007, Cost: 0.600986018\n",
            "Epoch: 0008, Cost: 0.571490138\n",
            "Epoch: 0009, Cost: 0.547181054\n",
            "Epoch: 0010, Cost: 0.527145614\n",
            "Epoch: 0011, Cost: 0.510084291\n",
            "Epoch: 0012, Cost: 0.494643601\n",
            "Epoch: 0013, Cost: 0.481214442\n",
            "Epoch: 0014, Cost: 0.469831739\n",
            "Epoch: 0015, Cost: 0.458875789\n",
            "Epoch: 0016, Cost: 0.449458207\n",
            "Epoch: 0017, Cost: 0.441382795\n",
            "Epoch: 0018, Cost: 0.433171758\n",
            "Epoch: 0019, Cost: 0.426198458\n",
            "Epoch: 0020, Cost: 0.419485727\n",
            "Epoch: 0021, Cost: 0.413063932\n",
            "Epoch: 0022, Cost: 0.407621409\n",
            "Epoch: 0023, Cost: 0.402141436\n",
            "Epoch: 0024, Cost: 0.396709330\n",
            "Epoch: 0025, Cost: 0.392051933\n",
            "Epoch: 0026, Cost: 0.387775649\n",
            "Epoch: 0027, Cost: 0.383594061\n",
            "Epoch: 0028, Cost: 0.379419347\n",
            "Epoch: 0029, Cost: 0.375396779\n",
            "Epoch: 0030, Cost: 0.372197021\n",
            "Epoch: 0031, Cost: 0.368657762\n",
            "Epoch: 0032, Cost: 0.365397841\n",
            "Epoch: 0033, Cost: 0.362073182\n",
            "Epoch: 0034, Cost: 0.359214230\n",
            "Epoch: 0035, Cost: 0.356533955\n",
            "Epoch: 0036, Cost: 0.353747148\n",
            "Epoch: 0037, Cost: 0.351162789\n",
            "Epoch: 0038, Cost: 0.348794804\n",
            "Epoch: 0039, Cost: 0.345864348\n",
            "Epoch: 0040, Cost: 0.343771012\n",
            "Epoch: 0041, Cost: 0.341535829\n",
            "Epoch: 0042, Cost: 0.339390279\n",
            "Epoch: 0043, Cost: 0.337265284\n",
            "Epoch: 0044, Cost: 0.335304714\n",
            "Epoch: 0045, Cost: 0.333256269\n",
            "Epoch: 0046, Cost: 0.331430508\n",
            "Epoch: 0047, Cost: 0.329733489\n",
            "Epoch: 0048, Cost: 0.328065174\n",
            "Epoch: 0049, Cost: 0.326323766\n",
            "Epoch: 0050, Cost: 0.324703795\n",
            "Learning finished\n",
            "Accuracy:  0.9113\n",
            "Label:  [4]\n",
            "Prediction:  [4]\n"
          ],
          "name": "stdout"
        },
        {
          "output_type": "display_data",
          "data": {
            "image/png": "[encoded data removed]",
            "text/plain": [
              "<Figure size 432x288 with 1 Axes>"
            ]
          },
          "metadata": {
            "tags": []
          }
        }
      ]
    }
  ]
}